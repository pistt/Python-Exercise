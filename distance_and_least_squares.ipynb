{
 "cells": [
  {
   "cell_type": "code",
   "execution_count": 2,
   "metadata": {
    "scrolled": false
   },
   "outputs": [
    {
     "name": "stdout",
     "output_type": "stream",
     "text": [
      "0.0\n",
      "0.0\n",
      "4.69041575982343\n",
      "-0.0\n"
     ]
    }
   ],
   "source": [
    "import numpy as np\n",
    "import pandas\n",
    "import matplotlib.pyplot as plt\n",
    "import math\n",
    "from scipy.stats import pearsonr\n",
    "def cosine(x,y):\n",
    "    print(np.dot(x,y)/(np.linalg.norm(x)*np.linalg.norm(y)))\n",
    "def corr(x,y):\n",
    "    sx = np.std(x)\n",
    "    sy = np.std(y)\n",
    "    ex = np.mean(x)\n",
    "    ey = np.mean(y)\n",
    "    if sx == 0 or sy == 0:\n",
    "        print(\"None\")\n",
    "        return None\n",
    "    data=[]\n",
    "    for i in range(len(x)):\n",
    "        data.append(x[i]*y[i])\n",
    "    data = np.mean(data)\n",
    "    corrs = (data - ex*ey)/(sx*sy)\n",
    "    print(corrs)\n",
    "def eula(x,y):\n",
    "    data = 0\n",
    "    for i in range(len(x)):\n",
    "        data += (x[i]-y[i])**2\n",
    "    print(math.sqrt(data))\n",
    "def jac(x,y):\n",
    "    fenzi = 0\n",
    "    fenmu = 0\n",
    "    for i in range(len(x)):\n",
    "        fenzi += x[i] & y[i]\n",
    "        fenmu += x[i] | y[i]\n",
    "    print(fenzi/fenmu)\n",
    "x = np.array([2,-1,0,2,0,-3])\n",
    "y = np.array([-1,1,-1,0,0,-1])\n",
    "cosine(x,y)\n",
    "corr(x,y)\n",
    "eula(x,y)\n",
    "jac(x,y)"
   ]
  },
  {
   "cell_type": "code",
   "execution_count": 20,
   "metadata": {},
   "outputs": [
    {
     "name": "stdout",
     "output_type": "stream",
     "text": [
      "r = 0.7828090360394566\n",
      "82.04546773725448\n"
     ]
    },
    {
     "data": {
      "image/png": "[encoded data removed]",
      "text/plain": [
       "<Figure size 432x288 with 1 Axes>"
      ]
     },
     "metadata": {
      "needs_background": "light"
     },
     "output_type": "display_data"
    }
   ],
   "source": [
    "import numpy as np\n",
    "import pandas\n",
    "import matplotlib.pyplot as plt\n",
    "import math\n",
    "np.set_printoptions(2, suppress = True)\n",
    "x = np.array([72,50,81,74,94,86,59,83,65,33,88,81])\n",
    "y = np.array([84,63,77,78,90,75,49,79,77,52,74,90])\n",
    "a = plt.scatter(x,y, s = 10)\n",
    "plt.xlim(0,100)\n",
    "plt.ylim(0,100)\n",
    "xmean = np.mean(x)\n",
    "ymean = np.mean(y)\n",
    "xymean = np.mean(x*y)\n",
    "x2mean = np.mean(x*x)\n",
    "up, down1, down2 = 0, 0, 0\n",
    "for (i,j) in zip(x,y):\n",
    "    up += (i - xmean)*(j - ymean)\n",
    "    down1 += (i - xmean)**2\n",
    "    down2 += (j - ymean)**2\n",
    "r = up / (math.sqrt(down1)*math.sqrt(down2))\n",
    "print(\"r =\", r)\n",
    "b = (xymean - xmean * ymean)/(x2mean - xmean*xmean)\n",
    "a = ymean - b * xmean\n",
    "xnow = np.linspace(0,100, 100)\n",
    "ynow = b*xnow + a\n",
    "plt.plot(xnow,ynow)\n",
    "eighty_six = b * 86 + a\n",
    "print(eighty_six)\n",
    "    "
   ]
  },
  {
   "cell_type": "code",
   "execution_count": 4,
   "metadata": {},
   "outputs": [
    {
     "data": {
      "text/plain": [
       "'教育部先后发文要求各高校要做到“停课不停\\n教、停课不停学”，凸显了在线教育在高等教育中应\\n用的重要性。在线教育，是指一种基于互联网的教学\\n与学习行为，通过应用互联网技术和多媒体技术等手\\n段进行知识传播和快速学习的教育模式。越来越多\\n的企业、事业、学校等单位认识到在线教育的巨大\\n作用，并开始实施解决方案，特别是“互联网+”时\\n代，知识获取的方式已经发生了巨大的改变。'"
      ]
     },
     "execution_count": 4,
     "metadata": {},
     "output_type": "execute_result"
    }
   ],
   "source": []
  },
  {
   "cell_type": "code",
   "execution_count": null,
   "metadata": {},
   "outputs": [],
   "source": []
  }
 ],
 "metadata": {
  "kernelspec": {
   "display_name": "Python 3",
   "language": "python",
   "name": "python3"
  },
  "language_info": {
   "codemirror_mode": {
    "name": "ipython",
    "version": 3
   },
   "file_extension": ".py",
   "mimetype": "text/x-python",
   "name": "python",
   "nbconvert_exporter": "python",
   "pygments_lexer": "ipython3",
   "version": "3.8.3"
  }
 },
 "nbformat": 4,
 "nbformat_minor": 4
}
