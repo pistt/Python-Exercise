{
 "cells": [
  {
   "cell_type": "code",
   "execution_count": 2,
   "metadata": {},
   "outputs": [
    {
     "name": "stdout",
     "output_type": "stream",
     "text": [
      "House_style: Ancient\n",
      "Total_area: 67.5 平方米\n",
      "Remain_area: 52.5 平方米\n",
      "Furniture list:\n",
      "床 \t占地 4 平方米\n",
      "衣柜 \t占地 2 平方米\n",
      "餐桌 \t占地 1.5 平方米\n"
     ]
    }
   ],
   "source": [
    "class Furniture():\n",
    "    def __init__(self, name, area):\n",
    "        self.name = name\n",
    "        self.area = area\n",
    "        \n",
    "class House():\n",
    "    def __init__(self, house_style, zarea):\n",
    "        self.house_style = house_style\n",
    "        self.zarea = zarea\n",
    "        self.farea = zarea\n",
    "        self.items=[]\n",
    "    def add_item(self, name, area):\n",
    "        if (self.farea < area):\n",
    "            print('Not enough space!')\n",
    "            return\n",
    "        self.items.append(Furniture(name, area))\n",
    "        self.zarea = self.zarea + area\n",
    "        self.farea = self.farea - area\n",
    "    def out(self):\n",
    "        print('House_style:',self.house_style)\n",
    "        print('Total_area:',self.zarea,'平方米')\n",
    "        print('Remain_area:',self.farea,'平方米')\n",
    "        print('Furniture list:')\n",
    "        for i in self.items:\n",
    "            print(i.name,'\\t占地',i.area,'平方米')\n",
    "            \n",
    "test = House('Ancient', 60)\n",
    "test.add_item('床',4)\n",
    "test.add_item('衣柜', 2)\n",
    "test.add_item('餐桌', 1.5)\n",
    "test.out()"
   ]
  }
 ],
 "metadata": {
  "kernelspec": {
   "display_name": "Python 3",
   "language": "python",
   "name": "python3"
  },
  "language_info": {
   "codemirror_mode": {
    "name": "ipython",
    "version": 3
   },
   "file_extension": ".py",
   "mimetype": "text/x-python",
   "name": "python",
   "nbconvert_exporter": "python",
   "pygments_lexer": "ipython3",
   "version": "3.7.6"
  }
 },
 "nbformat": 4,
 "nbformat_minor": 4
}
