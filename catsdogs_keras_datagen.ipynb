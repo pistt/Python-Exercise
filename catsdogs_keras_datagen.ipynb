{
 "cells": [
  {
   "cell_type": "code",
   "execution_count": 1,
   "metadata": {},
   "outputs": [],
   "source": [
    "import os\n",
    "import numpy as np\n",
    "# Train a CNN classifier\n",
    "from tensorflow.keras.models import Sequential\n",
    "from tensorflow.keras.layers import Conv2D, MaxPooling2D\n",
    "from tensorflow.keras.layers import Activation, Dropout, Flatten, Dense\n",
    "from tensorflow.keras import backend as K\n",
    "from tensorflow.keras.models import load_model\n",
    "from tensorflow.keras.utils import to_categorical\n",
    "from tensorflow.keras import losses,activations,optimizers\n",
    "from matplotlib import pyplot as plt\n",
    "from PIL import Image, ImageOps\n",
    "from tensorflow.keras.preprocessing.image import ImageDataGenerator\n"
   ]
  },
  {
   "cell_type": "markdown",
   "metadata": {},
   "source": [
    "the train/vaild data must be in the form:\n",
    "catsdogs ---\n",
    "    train ---\n",
    "        cats\n",
    "        dogs\n",
    "    valid ---\n",
    "        cats\n",
    "        dogs\n"
   ]
  },
  {
   "cell_type": "code",
   "execution_count": 2,
   "metadata": {},
   "outputs": [
    {
     "name": "stdout",
     "output_type": "stream",
     "text": [
      "cwd= C:\\Users\\XRUI\n"
     ]
    }
   ],
   "source": [
    "print('cwd=',os.getcwd())\n",
    "# Resize image to size proportinally. size is a tuple (width,height)\n",
    "def resize_image(img, size):\n",
    "    \n",
    "    # Convert RGBA images to RGB\n",
    "    if np.array(img).shape[2] == 4:\n",
    "        img = img.convert('RGB')\n",
    "        \n",
    "    # resize the image\n",
    "    img.thumbnail(size, Image.ANTIALIAS)\n",
    "    newimg = Image.new(\"RGB\", size, (255, 255, 255))\n",
    "    newimg.paste(img, (int((size[0] - img.size[0]) / 2), int((size[1] - img.size[1]) / 2)))\n",
    "    \n",
    "    return newimg\n"
   ]
  },
  {
   "cell_type": "code",
   "execution_count": 3,
   "metadata": {},
   "outputs": [
    {
     "ename": "FileNotFoundError",
     "evalue": "[WinError 3] 系统找不到指定的路径。: '../../catsdogs/train'",
     "output_type": "error",
     "traceback": [
      "\u001b[1;31m---------------------------------------------------------------------------\u001b[0m",
      "\u001b[1;31mFileNotFoundError\u001b[0m                         Traceback (most recent call last)",
      "\u001b[1;32m<ipython-input-3-1564230440b8>\u001b[0m in \u001b[0;36m<module>\u001b[1;34m\u001b[0m\n\u001b[0;32m     13\u001b[0m \u001b[0mtest_datagen\u001b[0m \u001b[1;33m=\u001b[0m \u001b[0mImageDataGenerator\u001b[0m\u001b[1;33m(\u001b[0m\u001b[0mrescale\u001b[0m\u001b[1;33m=\u001b[0m\u001b[1;36m1.\u001b[0m\u001b[1;33m/\u001b[0m\u001b[1;36m255\u001b[0m\u001b[1;33m)\u001b[0m\u001b[1;33m\u001b[0m\u001b[1;33m\u001b[0m\u001b[0m\n\u001b[0;32m     14\u001b[0m \u001b[1;33m\u001b[0m\u001b[0m\n\u001b[1;32m---> 15\u001b[1;33m train_generator = train_datagen.flow_from_directory(\n\u001b[0m\u001b[0;32m     16\u001b[0m     \u001b[1;34m'../../catsdogs/train'\u001b[0m\u001b[1;33m,\u001b[0m\u001b[1;33m\u001b[0m\u001b[1;33m\u001b[0m\u001b[0m\n\u001b[0;32m     17\u001b[0m     \u001b[0mtarget_size\u001b[0m\u001b[1;33m=\u001b[0m\u001b[1;33m(\u001b[0m\u001b[1;36m128\u001b[0m\u001b[1;33m,\u001b[0m \u001b[1;36m128\u001b[0m\u001b[1;33m)\u001b[0m\u001b[1;33m,\u001b[0m\u001b[1;33m\u001b[0m\u001b[1;33m\u001b[0m\u001b[0m\n",
      "\u001b[1;32mc:\\users\\xrui\\appdata\\local\\programs\\python\\python38\\lib\\site-packages\\tensorflow\\python\\keras\\preprocessing\\image.py\u001b[0m in \u001b[0;36mflow_from_directory\u001b[1;34m(self, directory, target_size, color_mode, classes, class_mode, batch_size, shuffle, seed, save_to_dir, save_prefix, save_format, follow_links, subset, interpolation)\u001b[0m\n\u001b[0;32m    940\u001b[0m             \u001b[1;32mand\u001b[0m\u001b[0;31m \u001b[0m\u001b[0;31m`\u001b[0m\u001b[0my\u001b[0m\u001b[0;31m`\u001b[0m \u001b[1;32mis\u001b[0m \u001b[0ma\u001b[0m \u001b[0mnumpy\u001b[0m \u001b[0marray\u001b[0m \u001b[0mof\u001b[0m \u001b[0mcorresponding\u001b[0m \u001b[0mlabels\u001b[0m\u001b[1;33m.\u001b[0m\u001b[1;33m\u001b[0m\u001b[1;33m\u001b[0m\u001b[0m\n\u001b[0;32m    941\u001b[0m     \"\"\"\n\u001b[1;32m--> 942\u001b[1;33m     return DirectoryIterator(\n\u001b[0m\u001b[0;32m    943\u001b[0m         \u001b[0mdirectory\u001b[0m\u001b[1;33m,\u001b[0m\u001b[1;33m\u001b[0m\u001b[1;33m\u001b[0m\u001b[0m\n\u001b[0;32m    944\u001b[0m         \u001b[0mself\u001b[0m\u001b[1;33m,\u001b[0m\u001b[1;33m\u001b[0m\u001b[1;33m\u001b[0m\u001b[0m\n",
      "\u001b[1;32mc:\\users\\xrui\\appdata\\local\\programs\\python\\python38\\lib\\site-packages\\tensorflow\\python\\keras\\preprocessing\\image.py\u001b[0m in \u001b[0;36m__init__\u001b[1;34m(self, directory, image_data_generator, target_size, color_mode, classes, class_mode, batch_size, shuffle, seed, data_format, save_to_dir, save_prefix, save_format, follow_links, subset, interpolation, dtype)\u001b[0m\n\u001b[0;32m    378\u001b[0m         \u001b[0mdtype\u001b[0m \u001b[1;33m=\u001b[0m \u001b[0mbackend\u001b[0m\u001b[1;33m.\u001b[0m\u001b[0mfloatx\u001b[0m\u001b[1;33m(\u001b[0m\u001b[1;33m)\u001b[0m\u001b[1;33m\u001b[0m\u001b[1;33m\u001b[0m\u001b[0m\n\u001b[0;32m    379\u001b[0m       \u001b[0mkwargs\u001b[0m\u001b[1;33m[\u001b[0m\u001b[1;34m'dtype'\u001b[0m\u001b[1;33m]\u001b[0m \u001b[1;33m=\u001b[0m \u001b[0mdtype\u001b[0m\u001b[1;33m\u001b[0m\u001b[1;33m\u001b[0m\u001b[0m\n\u001b[1;32m--> 380\u001b[1;33m     super(DirectoryIterator, self).__init__(\n\u001b[0m\u001b[0;32m    381\u001b[0m         \u001b[0mdirectory\u001b[0m\u001b[1;33m,\u001b[0m \u001b[0mimage_data_generator\u001b[0m\u001b[1;33m,\u001b[0m\u001b[1;33m\u001b[0m\u001b[1;33m\u001b[0m\u001b[0m\n\u001b[0;32m    382\u001b[0m         \u001b[0mtarget_size\u001b[0m\u001b[1;33m=\u001b[0m\u001b[0mtarget_size\u001b[0m\u001b[1;33m,\u001b[0m\u001b[1;33m\u001b[0m\u001b[1;33m\u001b[0m\u001b[0m\n",
      "\u001b[1;32mc:\\users\\xrui\\appdata\\local\\programs\\python\\python38\\lib\\site-packages\\keras_preprocessing\\image\\directory_iterator.py\u001b[0m in \u001b[0;36m__init__\u001b[1;34m(self, directory, image_data_generator, target_size, color_mode, classes, class_mode, batch_size, shuffle, seed, data_format, save_to_dir, save_prefix, save_format, follow_links, subset, interpolation, dtype)\u001b[0m\n\u001b[0;32m    113\u001b[0m         \u001b[1;32mif\u001b[0m \u001b[1;32mnot\u001b[0m \u001b[0mclasses\u001b[0m\u001b[1;33m:\u001b[0m\u001b[1;33m\u001b[0m\u001b[1;33m\u001b[0m\u001b[0m\n\u001b[0;32m    114\u001b[0m             \u001b[0mclasses\u001b[0m \u001b[1;33m=\u001b[0m \u001b[1;33m[\u001b[0m\u001b[1;33m]\u001b[0m\u001b[1;33m\u001b[0m\u001b[1;33m\u001b[0m\u001b[0m\n\u001b[1;32m--> 115\u001b[1;33m             \u001b[1;32mfor\u001b[0m \u001b[0msubdir\u001b[0m \u001b[1;32min\u001b[0m \u001b[0msorted\u001b[0m\u001b[1;33m(\u001b[0m\u001b[0mos\u001b[0m\u001b[1;33m.\u001b[0m\u001b[0mlistdir\u001b[0m\u001b[1;33m(\u001b[0m\u001b[0mdirectory\u001b[0m\u001b[1;33m)\u001b[0m\u001b[1;33m)\u001b[0m\u001b[1;33m:\u001b[0m\u001b[1;33m\u001b[0m\u001b[1;33m\u001b[0m\u001b[0m\n\u001b[0m\u001b[0;32m    116\u001b[0m                 \u001b[1;32mif\u001b[0m \u001b[0mos\u001b[0m\u001b[1;33m.\u001b[0m\u001b[0mpath\u001b[0m\u001b[1;33m.\u001b[0m\u001b[0misdir\u001b[0m\u001b[1;33m(\u001b[0m\u001b[0mos\u001b[0m\u001b[1;33m.\u001b[0m\u001b[0mpath\u001b[0m\u001b[1;33m.\u001b[0m\u001b[0mjoin\u001b[0m\u001b[1;33m(\u001b[0m\u001b[0mdirectory\u001b[0m\u001b[1;33m,\u001b[0m \u001b[0msubdir\u001b[0m\u001b[1;33m)\u001b[0m\u001b[1;33m)\u001b[0m\u001b[1;33m:\u001b[0m\u001b[1;33m\u001b[0m\u001b[1;33m\u001b[0m\u001b[0m\n\u001b[0;32m    117\u001b[0m                     \u001b[0mclasses\u001b[0m\u001b[1;33m.\u001b[0m\u001b[0mappend\u001b[0m\u001b[1;33m(\u001b[0m\u001b[0msubdir\u001b[0m\u001b[1;33m)\u001b[0m\u001b[1;33m\u001b[0m\u001b[1;33m\u001b[0m\u001b[0m\n",
      "\u001b[1;31mFileNotFoundError\u001b[0m: [WinError 3] 系统找不到指定的路径。: '../../catsdogs/train'"
     ]
    }
   ],
   "source": [
    "train_datagen = ImageDataGenerator(\n",
    "    rescale=1./255,   # normalization\n",
    "    # shear_range就是错切变换，让所有点的x坐标(或者y坐标)保持不变，而对应的y坐标(或者x坐标)则按比例发生平移，且平移的大小和该点到x轴(或y轴)的垂直距离成正比。\n",
    "    shear_range=0.2,\n",
    "    # 用户指定旋转角度范围，其参数只需指定一个整数即可，但并不是固定以这个角度进行旋转，而是在 [0, 指定角度] 范围内进行随机角度旋转\n",
    "#    rotation_range=30,\n",
    "    # width_shift_range & height_shift_range 分别是水平位置平移和上下位置平移，其参数可以是[0, 1]的浮点数，也可以大于1，其最大平移距离为图片长或宽的尺寸乘以参数\n",
    "#    width_shift_range=0.2,\n",
    "    zoom_range=0.2,   # 在长宽两个方向进行同等(或不同)程度的放缩操作，参数大于0小于1时，执行的是放大操作\n",
    "    horizontal_flip=True)  # horizontal flip transform\n",
    "\n",
    "valid_datagen = ImageDataGenerator(rescale=1./255)\n",
    "test_datagen = ImageDataGenerator(rescale=1./255)\n",
    "\n",
    "train_generator = train_datagen.flow_from_directory(\n",
    "    '../../catsdogs/train',\n",
    "    target_size=(128, 128),\n",
    "    batch_size=64,\n",
    "    # the directory must already exists. all generated samples(batch_size*steps_per_epoch*epochs) will be saved in this directory\n",
    "#    save_to_dir=\"generated_train_data\",\n",
    "    class_mode='categorical')\n",
    "\n",
    "validation_generator = valid_datagen.flow_from_directory(\n",
    "    '../../catsdogs/valid',\n",
    "    target_size=(128, 128),\n",
    "    batch_size=64,\n",
    "    # the directory must already exists\n",
    "#    save_to_dir=\"generated_valid_data\",\n",
    "    class_mode='categorical')\n",
    "\n",
    "test_generator = test_datagen.flow_from_directory(\n",
    "    '../../catsdogs/test',\n",
    "    target_size=(128, 128),\n",
    "    batch_size=1,\n",
    "    shuffle=False,\n",
    "    class_mode='categorical')\n"
   ]
  },
  {
   "cell_type": "code",
   "execution_count": null,
   "metadata": {},
   "outputs": [],
   "source": [
    "classnames = np.array(['cat','dog'])\n",
    "STEP_SIZE_TRAIN = train_generator.n//train_generator.batch_size\n",
    "STEP_SIZE_VALID = validation_generator.n//validation_generator.batch_size\n",
    "STEP_SIZE_TEST = test_generator.n//test_generator.batch_size\n",
    "print('STEP_SIZE_TRAIN =',STEP_SIZE_TRAIN)\n",
    "print('STEP_SIZE_VALID =',STEP_SIZE_VALID)\n",
    "print('STEP_SIZE_TEST =',STEP_SIZE_TEST)\n"
   ]
  },
  {
   "cell_type": "code",
   "execution_count": null,
   "metadata": {},
   "outputs": [],
   "source": [
    "model = Sequential()\n",
    "# filter size (3,3) step default is (1,1). input shape=(128,128,3) padding default 'valid' (no padding)\n",
    "# output feature maps: (n+2p-f)/s+1 = (128+0-3)/1+1 = 126. so shape -> (126,126,32)\n",
    "# parameters number = 3*3*3*32+32 = 896. filter size (3*3*3), filter number = 32\n",
    "model.add(Conv2D(32, (3, 3), input_shape=(128, 128, 3), activation='relu'))\n",
    "#model.add(Conv2D(32, (3, 3), strides=(2,2), padding='valid', input_shape=(128,128,3), activation='relu'))\n",
    "# output feature maps: pool_size=(2,2) so width and height half changed shape -> (63,63,32)\n",
    "# parameters numbers = 0(no convolution filter)\n",
    "model.add(MaxPooling2D(pool_size=(2,2), strides=(2,2)))\n",
    "# output feature maps: size=63+0-2+1  shape -> (61,61,32) \n",
    "# parameters number = 3*3*32*32+32 = 9248. pay attention the depth of the this layers' filter is the same as the last layer's filter number(32 here)\n",
    "model.add(Conv2D(32, (3, 3), activation='relu'))\n",
    "# output feature maps: width and height half changed shape -> (30,30,32)\n",
    "# parameters numbers = 0(no convolution filter)\n",
    "model.add(MaxPooling2D(pool_size=(2, 2)))    # strides default to pool_size\n",
    "# faeture maps no change. parameters = 0\n",
    "model.add(Dropout(0.5))\n",
    "# output feature maps: size=30+0-3+1  shape -> (28,28,32) parameter numbers = 3*3*32*32+32 = 9248\n",
    "model.add(Conv2D(32, (3, 3), activation='relu'))\n",
    "# output feature maps: width and height half changed. shape -> (14,14,32). no parameters\n",
    "model.add(MaxPooling2D(pool_size=(2, 2)))\n",
    "# output feature maps: no change, parameters = 0\n",
    "model.add(Dropout(0.5))\n",
    "# output feature maps: shape flattened from (14,14,32) to (14*14*32,) = (6272,)\n",
    "model.add(Flatten())\n",
    "# output feature maps: 2, parameters numbers = 2*6272+2 = 12546\n",
    "model.add(Dense(len(classnames), activation='softmax'))\n",
    "model.summary()\n"
   ]
  },
  {
   "cell_type": "code",
   "execution_count": null,
   "metadata": {},
   "outputs": [],
   "source": [
    "optimizer = optimizers.Adam\n",
    "loss = losses.categorical_crossentropy\n",
    "model.compile(loss='categorical_crossentropy',\n",
    "              optimizer='adam',\n",
    "              metrics=['accuracy'])\n",
    "\n",
    "num_epochs = 100\n",
    "\n",
    "# steps_per_epoch = total_samples/batch_size\n",
    "# here the generator generates 32(or 64, ..) samples for a batch, and 50 steps will end far a epoch\n",
    "history = model.fit(\n",
    "    train_generator,\n",
    "    steps_per_epoch=STEP_SIZE_TRAIN,\n",
    "    epochs=num_epochs,\n",
    "    validation_data=validation_generator,\n",
    "    validation_steps=STEP_SIZE_VALID)\n"
   ]
  },
  {
   "cell_type": "code",
   "execution_count": null,
   "metadata": {},
   "outputs": [],
   "source": [
    "# plot training accuracy and loss from history\n",
    "plt.figure(figsize=(15,10))\n",
    "plt.subplot(121)\n",
    "plt.plot(history.history['accuracy'])\n",
    "plt.plot(history.history['val_accuracy'])\n",
    "plt.title('model accuracy')\n",
    "plt.ylabel('accuracy')\n",
    "plt.xlabel('epoch')\n",
    "plt.legend(['train', 'test'], loc='upper left')\n",
    "\n",
    "plt.subplot(122)\n",
    "plt.plot(history.history['loss'])\n",
    "plt.plot(history.history['val_loss'])\n",
    "plt.title('model loss')\n",
    "plt.ylabel('loss')\n",
    "plt.xlabel('epoch')\n",
    "plt.legend(['train', 'test'], loc='upper right')\n",
    "\n",
    "plt.show()\n"
   ]
  },
  {
   "cell_type": "code",
   "execution_count": null,
   "metadata": {},
   "outputs": [],
   "source": [
    "# load predict images\n",
    "predict_data = []\n",
    "predict_images = []\n",
    "size = (128,128)\n",
    "files = os.listdir('../catsdogs/test')\n",
    "for f in files:\n",
    "    if not 'jpg' in f:\n",
    "        continue\n",
    "    img = Image.open(os.path.join('../catsdogs/test',f))\n",
    "    # resize images\n",
    "    img = resize_image(img,size)\n",
    "    predict_data.append(np.array(img))\n",
    "\n"
   ]
  },
  {
   "cell_type": "code",
   "execution_count": null,
   "metadata": {},
   "outputs": [],
   "source": [
    "#img = Image.open('resized_images/hardshell_jackets_test/resized_10269570x1012905_zm.jpeg')\n",
    "# normalize the image data\n",
    "predict_data = np.array(predict_data,dtype='float')/255.\n",
    "# use the model to predict\n",
    "predicted_labels_encoded = model.predict(predict_data)\n",
    "print('predicted_labels_encoded =',predicted_labels_encoded)\n",
    "# predicted_labels_encoded is an array ,so np.argmax must specify the axis, so the result is also an arrar                                 \n",
    "predicted_labels = np.argmax(predicted_labels_encoded,axis=1) \n",
    "print('predicted digits={}'.format(predicted_labels))                                \n",
    "#predicted_labels = encoder.inverse_transform(predicted_labels)\n",
    "#print('predicted labels=',predicted_labels)\n",
    "\n"
   ]
  },
  {
   "cell_type": "code",
   "execution_count": null,
   "metadata": {},
   "outputs": [],
   "source": [
    "# predict using data generator\n",
    "predicted_labels_encoded2 = model.predict(test_generator,steps=STEP_SIZE_TEST)\n",
    "print('predicted_labels_encoded2 =',predicted_labels_encoded2)\n",
    "predicted_labels2 = np.argmax(predicted_labels_encoded2,axis=1) \n",
    "print('predicted digits2={}'.format(predicted_labels2)) \n",
    "\n"
   ]
  },
  {
   "cell_type": "code",
   "execution_count": null,
   "metadata": {},
   "outputs": [],
   "source": [
    "i = 0\n",
    "#fig = plt.figure(figsize=(10, 10))\n",
    "for data in predict_data:\n",
    "    ax = plt.subplot(1,4,i+1)\n",
    "    # image data should be converted back to its original value in order to show image\n",
    "    data = (data * 255.).astype(np.uint8)\n",
    "    imgplot = plt.imshow(data)\n",
    "    # classnames is a dictionary [0:'cats',1:'dogs']\n",
    "    ax.set_title(classnames[predicted_labels[i]])\n",
    "    i = i+1\n",
    "plt.show()\n"
   ]
  }
 ],
 "metadata": {
  "kernelspec": {
   "display_name": "Python 3",
   "language": "python",
   "name": "python3"
  },
  "language_info": {
   "codemirror_mode": {
    "name": "ipython",
    "version": 3
   },
   "file_extension": ".py",
   "mimetype": "text/x-python",
   "name": "python",
   "nbconvert_exporter": "python",
   "pygments_lexer": "ipython3",
   "version": "3.8.5"
  }
 },
 "nbformat": 4,
 "nbformat_minor": 4
}
